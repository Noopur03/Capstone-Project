{
    "cells": [
        {
            "cell_type": "markdown",
            "metadata": {},
            "source": "# CAPSTONE PROJECT"
        },
        {
            "cell_type": "markdown",
            "metadata": {},
            "source": "### The Battle of Neighbourhood"
        },
        {
            "cell_type": "markdown",
            "metadata": {},
            "source": "#### Introduction"
        },
        {
            "cell_type": "markdown",
            "metadata": {
                "collapsed": true
            },
            "source": "This project explores the best place for Italian restaurants throughout the New York City. According to Wikipedia, New York City has the largest population of Italian Americans in the United States of America as well as North America, many of whom inhabit ethnic enclaves in Brooklyn, the Bronx, Manhattan, Queens, and Staten Island. New York City is home to the third largest Italian population outside of Italy. Over 1.3 million Italians and Italian-Americans live in the greater New York City metro area, with about 800,000 living within one of the five New York City boroughs.So to find and enjoy Italian cuisine possibilty is more here. This project will show which are the best restaurants in neighborhoods and boroughs of New York City and if I want to open a Italian restaurant which place would be best? "
        }
    ],
    "metadata": {
        "kernelspec": {
            "display_name": "Python 3.6",
            "language": "python",
            "name": "python3"
        },
        "language_info": {
            "codemirror_mode": {
                "name": "ipython",
                "version": 3
            },
            "file_extension": ".py",
            "mimetype": "text/x-python",
            "name": "python",
            "nbconvert_exporter": "python",
            "pygments_lexer": "ipython3",
            "version": "3.6.8"
        }
    },
    "nbformat": 4,
    "nbformat_minor": 1
}